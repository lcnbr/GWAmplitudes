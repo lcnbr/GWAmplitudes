{
 "cells": [
  {
   "cell_type": "code",
   "execution_count": 16,
   "metadata": {},
   "outputs": [
    {
     "ename": "SystemError",
     "evalue": "SystemError: opening file \"inoutp1pp2p1Lml.graphml\": No such file or directory",
     "output_type": "error",
     "traceback": [
      "SystemError: opening file \"inoutp1pp2p1Lml.graphml\": No such file or directory\n",
      "\n",
      "Stacktrace:\n",
      "  [1] systemerror(p::String, errno::Int32; extrainfo::Nothing)\n",
      "    @ Base ./error.jl:174\n",
      "  [2] #systemerror#68\n",
      "    @ ./error.jl:173 [inlined]\n",
      "  [3] systemerror\n",
      "    @ ./error.jl:173 [inlined]\n",
      "  [4] open(fname::String; lock::Bool, read::Bool, write::Nothing, create::Nothing, truncate::Nothing, append::Nothing)\n",
      "    @ Base ./iostream.jl:293\n",
      "  [5] open(fname::String, mode::String; lock::Bool)\n",
      "    @ Base ./iostream.jl:355\n",
      "  [6] open(fname::String, mode::String)\n",
      "    @ Base ./iostream.jl:355\n",
      "  [7] open(::Graphs.var\"#120#121\"{String, GraphIO.GraphML.GraphMLFormat}, ::String, ::Vararg{String}; kwargs::Base.Pairs{Symbol, Union{}, Tuple{}, NamedTuple{(), Tuple{}}})\n",
      "    @ Base ./io.jl:328\n",
      "  [8] open\n",
      "    @ ./io.jl:328 [inlined]\n",
      "  [9] loadgraph\n",
      "    @ ~/.julia/packages/Graphs/1AAjc/src/persistence/common.jl:14 [inlined]\n",
      " [10] loadgraph(fn::String, format::GraphIO.GraphML.GraphMLFormat)\n",
      "    @ Graphs ~/.julia/packages/Graphs/1AAjc/src/persistence/common.jl:20\n",
      " [11] top-level scope\n",
      "    @ /mnt/d/DOC/UNI/ETH/MA/Thesis/SQED/LULU/QGRAFout/graphLabel.ipynb:5\n",
      " [12] eval\n",
      "    @ ./boot.jl:373 [inlined]\n",
      " [13] include_string(mapexpr::typeof(REPL.softscope), mod::Module, code::String, filename::String)\n",
      "    @ Base ./loading.jl:1196\n",
      " [14] #invokelatest#2\n",
      "    @ ./essentials.jl:716 [inlined]\n",
      " [15] invokelatest\n",
      "    @ ./essentials.jl:714 [inlined]\n",
      " [16] (::VSCodeServer.var\"#164#165\"{VSCodeServer.NotebookRunCellArguments, String})()\n",
      "    @ VSCodeServer ~/.vscode-server/extensions/julialang.language-julia-1.6.24/scripts/packages/VSCodeServer/src/serve_notebook.jl:19\n",
      " [17] withpath(f::VSCodeServer.var\"#164#165\"{VSCodeServer.NotebookRunCellArguments, String}, path::String)\n",
      "    @ VSCodeServer ~/.vscode-server/extensions/julialang.language-julia-1.6.24/scripts/packages/VSCodeServer/src/repl.jl:184\n",
      " [18] notebook_runcell_request(conn::VSCodeServer.JSONRPC.JSONRPCEndpoint{Base.PipeEndpoint, Base.PipeEndpoint}, params::VSCodeServer.NotebookRunCellArguments)\n",
      "    @ VSCodeServer ~/.vscode-server/extensions/julialang.language-julia-1.6.24/scripts/packages/VSCodeServer/src/serve_notebook.jl:13\n",
      " [19] dispatch_msg(x::VSCodeServer.JSONRPC.JSONRPCEndpoint{Base.PipeEndpoint, Base.PipeEndpoint}, dispatcher::VSCodeServer.JSONRPC.MsgDispatcher, msg::Dict{String, Any})\n",
      "    @ VSCodeServer.JSONRPC ~/.vscode-server/extensions/julialang.language-julia-1.6.24/scripts/packages/JSONRPC/src/typed.jl:67\n",
      " [20] serve_notebook(pipename::String, outputchannel_logger::Base.CoreLogging.SimpleLogger; crashreporting_pipename::String)\n",
      "    @ VSCodeServer ~/.vscode-server/extensions/julialang.language-julia-1.6.24/scripts/packages/VSCodeServer/src/serve_notebook.jl:136\n",
      " [21] top-level scope\n",
      "    @ ~/.vscode-server/extensions/julialang.language-julia-1.6.24/scripts/notebook/notebook.jl:32\n",
      " [22] include(mod::Module, _path::String)\n",
      "    @ Base ./Base.jl:418\n",
      " [23] exec_options(opts::Base.JLOptions)\n",
      "    @ Base ./client.jl:292\n",
      " [24] _start()\n",
      "    @ Base ./client.jl:495"
     ]
    }
   ],
   "source": [
    "using Graphs\n",
    "using EzXML\n",
    "using GraphIO\n",
    "\n",
    "diags = loadgraphs(\"inoutp1pp2p1Lml.graphml\",GraphIO.GraphML.GraphMLFormat())\n"
   ]
  },
  {
   "cell_type": "code",
   "execution_count": null,
   "metadata": {},
   "outputs": [],
   "source": []
  }
 ],
 "metadata": {
  "kernelspec": {
   "display_name": "Julia 1.7.3",
   "language": "julia",
   "name": "julia-1.7"
  },
  "language_info": {
   "file_extension": ".jl",
   "mimetype": "application/julia",
   "name": "julia",
   "version": "1.7.3"
  },
  "orig_nbformat": 4
 },
 "nbformat": 4,
 "nbformat_minor": 2
}
